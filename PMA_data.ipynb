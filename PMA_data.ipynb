{
  "nbformat": 4,
  "nbformat_minor": 0,
  "metadata": {
    "colab": {
      "name": "PMA",
      "provenance": [],
      "collapsed_sections": [],
      "include_colab_link": true
    },
    "kernelspec": {
      "name": "python3",
      "display_name": "Python 3"
    },
    "language_info": {
      "name": "python"
    }
  },
  "cells": [
    {
      "cell_type": "markdown",
      "metadata": {
        "id": "view-in-github",
        "colab_type": "text"
      },
      "source": [
        "<a href=\"https://colab.research.google.com/github/viniciusgino06/environmental_diagnosis/blob/main/PMA_data.ipynb\" target=\"_parent\"><img src=\"https://colab.research.google.com/assets/colab-badge.svg\" alt=\"Open In Colab\"/></a>"
      ]
    },
    {
      "cell_type": "markdown",
      "metadata": {
        "id": "uTRDEWAYzDWa"
      },
      "source": [
        "### Manipulação de imagens em Python\n",
        "- Ferramenta interessante para desenvolvermos o trampo de PA\n",
        "- Pode servir também para diversos trabalhos durante a graduação\n",
        "- Conhecimento em linguagens de programação nunca é demais!\n",
        "\n",
        "O COLAB é uma ferramenta muito interessante para iniciarmos. Aqui temos os principais pacotes de python instalados, além de 12 GB de RAM em GPU para rodarmos os códigos. Bora lá!"
      ]
    },
    {
      "cell_type": "code",
      "metadata": {
        "id": "n9POgUy6XFDL"
      },
      "source": [
        "#Iremos fazer a instalação de um pacote complementar (como se faz no anaconda: pip install nome-do-pacote)\n",
        "!pip install geemap"
      ],
      "execution_count": null,
      "outputs": []
    },
    {
      "cell_type": "markdown",
      "metadata": {
        "id": "qyD-4Bn00EpZ"
      },
      "source": [
        "Aqui iremos importar a biblioteca fundamental de manipulação de imagens em nuvem: O GOOGLE EARTH ENGINE. Para isso, digitamos o comando abaixo e autenticamos com o nosos email institucional. \n",
        "\n",
        "O interessante para nós usarmos essa ferramenta em conjunto com o COLAB é que temos armazenamento ilimitado pela conta institucional."
      ]
    },
    {
      "cell_type": "code",
      "metadata": {
        "id": "mhYoDggoMGrO",
        "colab": {
          "base_uri": "https://localhost:8080/"
        },
        "outputId": "a777608a-d47b-4f6d-d2a1-81641ea9adee"
      },
      "source": [
        "import ee\n",
        "#Se você nunca fez login no google earth engine, deve autenticar antes de inicializar\n",
        "ee.Authenticate()"
      ],
      "execution_count": null,
      "outputs": [
        {
          "output_type": "stream",
          "text": [
            "To authorize access needed by Earth Engine, open the following URL in a web browser and follow the instructions. If the web browser does not start automatically, please manually browse the URL below.\n",
            "\n",
            "    https://accounts.google.com/o/oauth2/auth?client_id=517222506229-vsmmajv00ul0bs7p89v5m89qs8eb9359.apps.googleusercontent.com&scope=https%3A%2F%2Fwww.googleapis.com%2Fauth%2Fearthengine+https%3A%2F%2Fwww.googleapis.com%2Fauth%2Fdevstorage.full_control&redirect_uri=urn%3Aietf%3Awg%3Aoauth%3A2.0%3Aoob&response_type=code&code_challenge=_mUW2DoE9LpY9pjnkijrb6mo-EO3tOFrgys-EKBOUBg&code_challenge_method=S256\n",
            "\n",
            "The authorization workflow will generate a code, which you should paste in the box below. \n",
            "Enter verification code: 4/1AY0e-g7DAp1NKitR_Pc5L3eY2EGhQXlNhRirLiQ7qKu3UkUbMr0oiZhH3L4\n",
            "\n",
            "Successfully saved authorization token.\n"
          ],
          "name": "stdout"
        }
      ]
    },
    {
      "cell_type": "markdown",
      "metadata": {
        "id": "4LQqOBAl0fBY"
      },
      "source": [
        "Importando mais bibliotecas e pacotes importantes:\n",
        "- Pandas e Numpy: Ciência de dados\n",
        "- Folium e geemap: manipulação de mapas\n",
        "- time, os, requests...: referente ao sistema"
      ]
    },
    {
      "cell_type": "code",
      "metadata": {
        "id": "MVFje3JwNvrb"
      },
      "source": [
        "import pandas as pd\n",
        "import numpy as np\n",
        "import folium\n",
        "import geemap\n",
        "import time\n",
        "import logging\n",
        "import requests\n",
        "import zipfile\n",
        "import os\n",
        "import math\n",
        "\n",
        "ee.Initialize()"
      ],
      "execution_count": null,
      "outputs": []
    },
    {
      "cell_type": "markdown",
      "metadata": {
        "id": "MrgVOid_1SwK"
      },
      "source": [
        "#### IMPORTANTE!\n",
        "Aqui vem uma parte importante do nosos trabalho: ao acessarmos a plataforma https://code.earthengine.google.com/ nos deparamos com um ambiente de programação em javascript no qual podemos coletar geometrias referentes a uma região qualquer, façam o teste escolhendo SJC e fazendo um recorte utilizando a ferramenta de poligono, vocês irão identificar uma variavel sendo criada com os vertices (coordenadas) do poligono. Esse foi o principio que utilizamos para coonstruir a variavel coordenadas e geometria. Alguns objetos do Google Earth Engine (GEE) utilizados:\n",
        "- ee.ImageCollection: coleção de imagens ao longo de uma série temporal\n",
        "- ee.Image: conteúdos dentro de uma coleção\n",
        "- ee.List: lista que pode ser utilizada para iterar sob uma coleção\n",
        "\n",
        "Obtemos as seguintes coleções:\n",
        "- Landsat 5: de 2000 a 2012 (30 metros c/ thermal)\n",
        "- Landsat 8: de 2013 a 2021 (30 metros c/ thermal)\n",
        "- Sentinel 2: de 2017 a 2021 (10 metros)\n",
        "\n",
        "Glossário: Bounds = limites; Cloud cover = cobertura de nuvens"
      ]
    },
    {
      "cell_type": "code",
      "metadata": {
        "colab": {
          "base_uri": "https://localhost:8080/"
        },
        "id": "imigK2_WPC0Y",
        "outputId": "74ce2fae-0755-4422-9041-1d01e4f7197b"
      },
      "source": [
        "#Poligono referente a região do banhado\n",
        "coordenadas = \"-45.92492886742651,-23.199948257720962,-45.88098355492651,-23.160970895077618\"\n",
        "x1,y1,x2,y2 = coordenadas.split(\",\")\n",
        "geometria = geometry = ee.Geometry.Polygon(\n",
        "        [[[float(x1),float(y2)],\n",
        "          [float(x2),float(y2)],\n",
        "          [float(x2),float(y1)],\n",
        "          [float(x1),float(y1)],\n",
        "          [float(x1),float(y2)]]])\n",
        "datasL5 = \"2000-01-01,2013-01-01\"\n",
        "ini,fi = datasL5.split(\",\")\n",
        "datasL8 = \"2013-01-01,2021-04-14\"\n",
        "inicio,fim = datasL8.split(\",\")\n",
        "colecaoL5 = ee.ImageCollection(\"LANDSAT/LT05/C01/T1_SR\").filterBounds(geometria).filterDate(ini,fi).filterMetadata('CLOUD_COVER','less_than', 10)\n",
        "colecaoL8 = ee.ImageCollection(\"LANDSAT/LC08/C01/T1_SR\").filterBounds(geometria).filterDate(inicio,fim).filterMetadata('CLOUD_COVER','less_than', 10)\n",
        "colecaoS2 = ee.ImageCollection(\"COPERNICUS/S2_SR\").filterBounds(geometria).filterDate(inicio,fim).filterMetadata('CLOUDY_PIXEL_PERCENTAGE','less_than', 5)\n",
        "print(\"LANDSAT 5: \"+str(colecaoL5.size().getInfo()))\n",
        "print(\"LANDSAT 8: \"+str(colecaoL8.size().getInfo()))\n",
        "print(\"SENTINEL 2: \"+str(colecaoS2.size().getInfo()))"
      ],
      "execution_count": null,
      "outputs": [
        {
          "output_type": "stream",
          "text": [
            "LANDSAT 5: 90\n",
            "LANDSAT 8: 77\n",
            "SENTINEL 2: 66\n"
          ],
          "name": "stdout"
        }
      ]
    },
    {
      "cell_type": "markdown",
      "metadata": {
        "id": "lP6cuz1X2wlp"
      },
      "source": [
        "Queremos uma imagem por ano na nossa coleção, para isso criamos a função organiza:\n",
        "- organiza(coleção,data-inicio,data-final)\n",
        "- retorna uma lista cotendo uma imagem por ano, que irá ser a nossa nova coleção"
      ]
    },
    {
      "cell_type": "code",
      "metadata": {
        "id": "DES9Hb_0rIaB"
      },
      "source": [
        "def organiza(col,start,end):\n",
        "  years = ee.List.sequence(start,end).getInfo()\n",
        "  lista = ee.List([])\n",
        "  for year in years:\n",
        "    priano = col.filterDate(str(year)+'-01-01',str(year)+'-12-31').sort('CLOUD_COVER').first()\n",
        "    if type(priano) == ee.image.Image:\n",
        "      lista = lista.add(priano)\n",
        "\n",
        "  return lista"
      ],
      "execution_count": null,
      "outputs": []
    },
    {
      "cell_type": "code",
      "metadata": {
        "id": "VP3Sv_AAsGHH"
      },
      "source": [
        "Lista_L5 = organiza(colecaoL5,2000,2011)\n",
        "Lista_L8 = organiza(colecaoL8,2013,2020)\n",
        "Lista_S2 = organiza(colecaoS2,2018,2020)"
      ],
      "execution_count": null,
      "outputs": []
    },
    {
      "cell_type": "code",
      "metadata": {
        "id": "2iLuUp9nvN-s"
      },
      "source": [
        "Cole_L5 = ee.ImageCollection(Lista_L5)\n",
        "Cole_L8 = ee.ImageCollection(Lista_L8)\n",
        "Cole_S2 = ee.ImageCollection(Lista_S2)"
      ],
      "execution_count": null,
      "outputs": []
    },
    {
      "cell_type": "markdown",
      "metadata": {
        "id": "7lDNKtXx3IrZ"
      },
      "source": [
        "Função para verificar as datas das nossas imagens"
      ]
    },
    {
      "cell_type": "code",
      "metadata": {
        "id": "kvcS_xPgeXii"
      },
      "source": [
        "def ymdList(imgcol):\n",
        "    def iter_func(image, newlist):\n",
        "        date = ee.Number.parse(image.date().format(\"YYYYMMdd\"));\n",
        "        newlist = ee.List(newlist);\n",
        "        return ee.List(newlist.add(date).sort())\n",
        "    ymd = imgcol.iterate(iter_func, ee.List([]))\n",
        "    return list(ee.List(ymd).reduce(ee.Reducer.frequencyHistogram()).getInfo().keys())"
      ],
      "execution_count": null,
      "outputs": []
    },
    {
      "cell_type": "code",
      "metadata": {
        "id": "2M8h59eemy_Q",
        "colab": {
          "base_uri": "https://localhost:8080/"
        },
        "outputId": "ac6e7031-49ee-4952-e03a-7141f86aa290"
      },
      "source": [
        "ymdList(Cole_L5)"
      ],
      "execution_count": null,
      "outputs": [
        {
          "output_type": "execute_result",
          "data": {
            "text/plain": [
              "['20000110',\n",
              " '20010909',\n",
              " '20020514',\n",
              " '20030720',\n",
              " '20040908',\n",
              " '20050515',\n",
              " '20060721',\n",
              " '20070708',\n",
              " '20080717',\n",
              " '20090830',\n",
              " '20100418',\n",
              " '20110905']"
            ]
          },
          "metadata": {
            "tags": []
          },
          "execution_count": 9
        }
      ]
    },
    {
      "cell_type": "code",
      "metadata": {
        "colab": {
          "base_uri": "https://localhost:8080/"
        },
        "id": "_gSGLqdK-F-j",
        "outputId": "9c9f37e0-5705-4ace-b6fc-66384cd558ad"
      },
      "source": [
        "ndvi = ee.ImageCollection(\"LANDSAT/LE07/C01/T1_ANNUAL_NDVI\").filterDate(\"2000-01-01\",\"2021-04-14\")\n",
        "ndvi.size().getInfo()"
      ],
      "execution_count": null,
      "outputs": [
        {
          "output_type": "execute_result",
          "data": {
            "text/plain": [
              "22"
            ]
          },
          "metadata": {
            "tags": []
          },
          "execution_count": 10
        }
      ]
    },
    {
      "cell_type": "markdown",
      "metadata": {
        "id": "DRJYA1Yy3wqh"
      },
      "source": [
        "#### DISPOSIÇÃO EM MAPAS\n",
        "Aqui iremos dispor nossas imagens em mapas, como se fosse no google earth, no canto superior direito você pode selecionar as camadas de interesse."
      ]
    },
    {
      "cell_type": "code",
      "metadata": {
        "colab": {
          "base_uri": "https://localhost:8080/",
          "height": 763
        },
        "id": "v1HBMIAucGfw",
        "outputId": "50f51d80-5bbe-42b3-ba17-f529c3e643d6"
      },
      "source": [
        "Mapa = geemap.Map(center=[-23.18,-45.90], zoom=13)\n",
        "Mapa.add_layer(ndvi.first(), {'bands': ['NDVI'],'palette': ['FFFFFF', 'F1B555', 'FCD163', '99B718', '74A901', '3E8601', '207401', '056201', '023B01',\n",
        "    '012E01', '011D01', '011301']}, 'NDVI L7 2000')\n",
        "Mapa.add_layer(Cole_L5.first(), {'bands': ['B3','B2','B1'],'min': 0, 'max': 66000, 'gamma': 3.5}, 'LANDSAT 5 2000') #Resolução radiométrica\n",
        "Mapa.add_layer(Cole_L8.first(), {'bands': ['B4','B3','B2'],'min': 0, 'max': 66000, 'gamma': 3.5}, 'LANDSAT 8 2013')\n",
        "Mapa.add_layer(Cole_S2.first(), {'bands': ['B4','B3','B2'],'min': 0, 'max': 66000, 'gamma': 4}, 'SENTINEL 2 2018')\n",
        "Mapa"
      ],
      "execution_count": null,
      "outputs": [
        {
          "output_type": "execute_result",
          "data": {
            "text/html": [
              "<div style=\"width:100%;\"><div style=\"position:relative;width:100%;height:0;padding-bottom:60%;\"><span style=\"color:#565656\">Make this Notebook Trusted to load map: File -> Trust Notebook</span><iframe src=\"about:blank\" style=\"position:absolute;width:100%;height:100%;left:0;top:0;border:none !important;\" data-html=%3C%21DOCTYPE%20html%3E%0A%3Chead%3E%20%20%20%20%0A%20%20%20%20%3Cmeta%20http-equiv%3D%22content-type%22%20content%3D%22text/html%3B%20charset%3DUTF-8%22%20/%3E%0A%20%20%20%20%0A%20%20%20%20%20%20%20%20%3Cscript%3E%0A%20%20%20%20%20%20%20%20%20%20%20%20L_NO_TOUCH%20%3D%20false%3B%0A%20%20%20%20%20%20%20%20%20%20%20%20L_DISABLE_3D%20%3D%20false%3B%0A%20%20%20%20%20%20%20%20%3C/script%3E%0A%20%20%20%20%0A%20%20%20%20%3Cstyle%3Ehtml%2C%20body%20%7Bwidth%3A%20100%25%3Bheight%3A%20100%25%3Bmargin%3A%200%3Bpadding%3A%200%3B%7D%3C/style%3E%0A%20%20%20%20%3Cstyle%3E%23map%20%7Bposition%3Aabsolute%3Btop%3A0%3Bbottom%3A0%3Bright%3A0%3Bleft%3A0%3B%7D%3C/style%3E%0A%20%20%20%20%3Cscript%20src%3D%22https%3A//cdn.jsdelivr.net/npm/leaflet%401.6.0/dist/leaflet.js%22%3E%3C/script%3E%0A%20%20%20%20%3Cscript%20src%3D%22https%3A//code.jquery.com/jquery-1.12.4.min.js%22%3E%3C/script%3E%0A%20%20%20%20%3Cscript%20src%3D%22https%3A//maxcdn.bootstrapcdn.com/bootstrap/3.2.0/js/bootstrap.min.js%22%3E%3C/script%3E%0A%20%20%20%20%3Cscript%20src%3D%22https%3A//cdnjs.cloudflare.com/ajax/libs/Leaflet.awesome-markers/2.0.2/leaflet.awesome-markers.js%22%3E%3C/script%3E%0A%20%20%20%20%3Clink%20rel%3D%22stylesheet%22%20href%3D%22https%3A//cdn.jsdelivr.net/npm/leaflet%401.6.0/dist/leaflet.css%22/%3E%0A%20%20%20%20%3Clink%20rel%3D%22stylesheet%22%20href%3D%22https%3A//maxcdn.bootstrapcdn.com/bootstrap/3.2.0/css/bootstrap.min.css%22/%3E%0A%20%20%20%20%3Clink%20rel%3D%22stylesheet%22%20href%3D%22https%3A//maxcdn.bootstrapcdn.com/bootstrap/3.2.0/css/bootstrap-theme.min.css%22/%3E%0A%20%20%20%20%3Clink%20rel%3D%22stylesheet%22%20href%3D%22https%3A//maxcdn.bootstrapcdn.com/font-awesome/4.6.3/css/font-awesome.min.css%22/%3E%0A%20%20%20%20%3Clink%20rel%3D%22stylesheet%22%20href%3D%22https%3A//cdnjs.cloudflare.com/ajax/libs/Leaflet.awesome-markers/2.0.2/leaflet.awesome-markers.css%22/%3E%0A%20%20%20%20%3Clink%20rel%3D%22stylesheet%22%20href%3D%22https%3A//cdn.jsdelivr.net/gh/python-visualization/folium/folium/templates/leaflet.awesome.rotate.min.css%22/%3E%0A%20%20%20%20%0A%20%20%20%20%20%20%20%20%20%20%20%20%3Cmeta%20name%3D%22viewport%22%20content%3D%22width%3Ddevice-width%2C%0A%20%20%20%20%20%20%20%20%20%20%20%20%20%20%20%20initial-scale%3D1.0%2C%20maximum-scale%3D1.0%2C%20user-scalable%3Dno%22%20/%3E%0A%20%20%20%20%20%20%20%20%20%20%20%20%3Cstyle%3E%0A%20%20%20%20%20%20%20%20%20%20%20%20%20%20%20%20%23map_bdce9b8dd67d4c269f41b1ab6cdbac40%20%7B%0A%20%20%20%20%20%20%20%20%20%20%20%20%20%20%20%20%20%20%20%20position%3A%20relative%3B%0A%20%20%20%20%20%20%20%20%20%20%20%20%20%20%20%20%20%20%20%20width%3A%20100.0%25%3B%0A%20%20%20%20%20%20%20%20%20%20%20%20%20%20%20%20%20%20%20%20height%3A%20100.0%25%3B%0A%20%20%20%20%20%20%20%20%20%20%20%20%20%20%20%20%20%20%20%20left%3A%200.0%25%3B%0A%20%20%20%20%20%20%20%20%20%20%20%20%20%20%20%20%20%20%20%20top%3A%200.0%25%3B%0A%20%20%20%20%20%20%20%20%20%20%20%20%20%20%20%20%7D%0A%20%20%20%20%20%20%20%20%20%20%20%20%3C/style%3E%0A%20%20%20%20%20%20%20%20%0A%20%20%20%20%3Cscript%20src%3D%22https%3A//cdnjs.cloudflare.com/ajax/libs/leaflet.fullscreen/1.4.2/Control.FullScreen.min.js%22%3E%3C/script%3E%0A%20%20%20%20%3Clink%20rel%3D%22stylesheet%22%20href%3D%22https%3A//cdnjs.cloudflare.com/ajax/libs/leaflet.fullscreen/1.4.2/Control.FullScreen.min.css%22/%3E%0A%3C/head%3E%0A%3Cbody%3E%20%20%20%20%0A%20%20%20%20%0A%20%20%20%20%20%20%20%20%20%20%20%20%3Cdiv%20class%3D%22folium-map%22%20id%3D%22map_bdce9b8dd67d4c269f41b1ab6cdbac40%22%20%3E%3C/div%3E%0A%20%20%20%20%20%20%20%20%0A%3C/body%3E%0A%3Cscript%3E%20%20%20%20%0A%20%20%20%20%0A%20%20%20%20%20%20%20%20%20%20%20%20var%20map_bdce9b8dd67d4c269f41b1ab6cdbac40%20%3D%20L.map%28%0A%20%20%20%20%20%20%20%20%20%20%20%20%20%20%20%20%22map_bdce9b8dd67d4c269f41b1ab6cdbac40%22%2C%0A%20%20%20%20%20%20%20%20%20%20%20%20%20%20%20%20%7B%0A%20%20%20%20%20%20%20%20%20%20%20%20%20%20%20%20%20%20%20%20center%3A%20%5B-23.18%2C%20-45.9%5D%2C%0A%20%20%20%20%20%20%20%20%20%20%20%20%20%20%20%20%20%20%20%20crs%3A%20L.CRS.EPSG3857%2C%0A%20%20%20%20%20%20%20%20%20%20%20%20%20%20%20%20%20%20%20%20zoom%3A%2013%2C%0A%20%20%20%20%20%20%20%20%20%20%20%20%20%20%20%20%20%20%20%20zoomControl%3A%20true%2C%0A%20%20%20%20%20%20%20%20%20%20%20%20%20%20%20%20%20%20%20%20preferCanvas%3A%20false%2C%0A%20%20%20%20%20%20%20%20%20%20%20%20%20%20%20%20%20%20%20%20eeInitialize%3A%20true%2C%0A%20%20%20%20%20%20%20%20%20%20%20%20%20%20%20%20%20%20%20%20addGoogleMap%3A%20true%2C%0A%20%20%20%20%20%20%20%20%20%20%20%20%20%20%20%20%20%20%20%20pluginLatlngpopup%3A%20true%2C%0A%20%20%20%20%20%20%20%20%20%20%20%20%20%20%20%20%20%20%20%20pluginFullscreen%3A%20true%2C%0A%20%20%20%20%20%20%20%20%20%20%20%20%20%20%20%20%20%20%20%20pluginDraw%3A%20false%2C%0A%20%20%20%20%20%20%20%20%20%20%20%20%20%20%20%20%20%20%20%20DrawExport%3A%20true%2C%0A%20%20%20%20%20%20%20%20%20%20%20%20%20%20%20%20%20%20%20%20pluginMinimap%3A%20false%2C%0A%20%20%20%20%20%20%20%20%20%20%20%20%20%20%20%20%20%20%20%20pluginLayercontrol%3A%20false%2C%0A%20%20%20%20%20%20%20%20%20%20%20%20%20%20%20%20%7D%0A%20%20%20%20%20%20%20%20%20%20%20%20%29%3B%0A%0A%20%20%20%20%20%20%20%20%20%20%20%20%0A%0A%20%20%20%20%20%20%20%20%0A%20%20%20%20%0A%20%20%20%20%20%20%20%20%20%20%20%20var%20tile_layer_6b27c5742903472e9d6385679a30c530%20%3D%20L.tileLayer%28%0A%20%20%20%20%20%20%20%20%20%20%20%20%20%20%20%20%22https%3A//%7Bs%7D.tile.openstreetmap.org/%7Bz%7D/%7Bx%7D/%7By%7D.png%22%2C%0A%20%20%20%20%20%20%20%20%20%20%20%20%20%20%20%20%7B%22attribution%22%3A%20%22Data%20by%20%5Cu0026copy%3B%20%5Cu003ca%20href%3D%5C%22http%3A//openstreetmap.org%5C%22%5Cu003eOpenStreetMap%5Cu003c/a%5Cu003e%2C%20under%20%5Cu003ca%20href%3D%5C%22http%3A//www.openstreetmap.org/copyright%5C%22%5Cu003eODbL%5Cu003c/a%5Cu003e.%22%2C%20%22detectRetina%22%3A%20false%2C%20%22maxNativeZoom%22%3A%2018%2C%20%22maxZoom%22%3A%2018%2C%20%22minZoom%22%3A%200%2C%20%22noWrap%22%3A%20false%2C%20%22opacity%22%3A%201%2C%20%22subdomains%22%3A%20%22abc%22%2C%20%22tms%22%3A%20false%7D%0A%20%20%20%20%20%20%20%20%20%20%20%20%29.addTo%28map_bdce9b8dd67d4c269f41b1ab6cdbac40%29%3B%0A%20%20%20%20%20%20%20%20%0A%20%20%20%20%0A%20%20%20%20%20%20%20%20%20%20%20%20var%20tile_layer_e19c6912bfd34070914904cb952acafd%20%3D%20L.tileLayer%28%0A%20%20%20%20%20%20%20%20%20%20%20%20%20%20%20%20%22https%3A//mt1.google.com/vt/lyrs%3Dm%5Cu0026x%3D%7Bx%7D%5Cu0026y%3D%7By%7D%5Cu0026z%3D%7Bz%7D%22%2C%0A%20%20%20%20%20%20%20%20%20%20%20%20%20%20%20%20%7B%22attribution%22%3A%20%22Google%22%2C%20%22detectRetina%22%3A%20false%2C%20%22maxNativeZoom%22%3A%2018%2C%20%22maxZoom%22%3A%2018%2C%20%22minZoom%22%3A%200%2C%20%22noWrap%22%3A%20false%2C%20%22opacity%22%3A%201%2C%20%22subdomains%22%3A%20%22abc%22%2C%20%22tms%22%3A%20false%7D%0A%20%20%20%20%20%20%20%20%20%20%20%20%29.addTo%28map_bdce9b8dd67d4c269f41b1ab6cdbac40%29%3B%0A%20%20%20%20%20%20%20%20%0A%20%20%20%20%0A%20%20%20%20%20%20%20%20%20%20%20%20%20%20%20%20var%20lat_lng_popup_7413f23e665f407b827be57181ffb25b%20%3D%20L.popup%28%29%3B%0A%20%20%20%20%20%20%20%20%20%20%20%20%20%20%20%20function%20latLngPop%28e%29%20%7B%0A%20%20%20%20%20%20%20%20%20%20%20%20%20%20%20%20%20%20%20%20lat_lng_popup_7413f23e665f407b827be57181ffb25b%0A%20%20%20%20%20%20%20%20%20%20%20%20%20%20%20%20%20%20%20%20%20%20%20%20.setLatLng%28e.latlng%29%0A%20%20%20%20%20%20%20%20%20%20%20%20%20%20%20%20%20%20%20%20%20%20%20%20.setContent%28%22Latitude%3A%20%22%20%2B%20e.latlng.lat.toFixed%284%29%20%2B%0A%20%20%20%20%20%20%20%20%20%20%20%20%20%20%20%20%20%20%20%20%20%20%20%20%20%20%20%20%20%20%20%20%20%20%20%20%22%3Cbr%3ELongitude%3A%20%22%20%2B%20e.latlng.lng.toFixed%284%29%29%0A%20%20%20%20%20%20%20%20%20%20%20%20%20%20%20%20%20%20%20%20%20%20%20%20.openOn%28map_bdce9b8dd67d4c269f41b1ab6cdbac40%29%3B%0A%20%20%20%20%20%20%20%20%20%20%20%20%20%20%20%20%20%20%20%20%7D%0A%20%20%20%20%20%20%20%20%20%20%20%20%20%20%20%20map_bdce9b8dd67d4c269f41b1ab6cdbac40.on%28%27click%27%2C%20latLngPop%29%3B%0A%20%20%20%20%20%20%20%20%20%20%20%20%0A%20%20%20%20%0A%20%20%20%20%20%20%20%20%20%20%20%20L.control.fullscreen%28%0A%20%20%20%20%20%20%20%20%20%20%20%20%20%20%20%20%7B%22forceSeparateButton%22%3A%20false%2C%20%22position%22%3A%20%22topleft%22%2C%20%22title%22%3A%20%22Full%20Screen%22%2C%20%22titleCancel%22%3A%20%22Exit%20Full%20Screen%22%7D%0A%20%20%20%20%20%20%20%20%20%20%20%20%29.addTo%28map_bdce9b8dd67d4c269f41b1ab6cdbac40%29%3B%0A%20%20%20%20%20%20%20%20%0A%20%20%20%20%0A%20%20%20%20%20%20%20%20%20%20%20%20map_bdce9b8dd67d4c269f41b1ab6cdbac40.fitBounds%28%0A%20%20%20%20%20%20%20%20%20%20%20%20%20%20%20%20%5B%5B-23.18%2C%20-45.9%5D%2C%20%5B-23.18%2C%20-45.9%5D%5D%2C%0A%20%20%20%20%20%20%20%20%20%20%20%20%20%20%20%20%7B%22maxZoom%22%3A%2013%7D%0A%20%20%20%20%20%20%20%20%20%20%20%20%29%3B%0A%20%20%20%20%20%20%20%20%0A%20%20%20%20%0A%20%20%20%20%20%20%20%20%20%20%20%20var%20tile_layer_4f67993a0f99404a8f19c4f933d5277d%20%3D%20L.tileLayer%28%0A%20%20%20%20%20%20%20%20%20%20%20%20%20%20%20%20%22https%3A//earthengine.googleapis.com/v1alpha/projects/earthengine-legacy/maps/684bf002b0801b0f8f9be5b9cf5cfb7e-b793c8b2531bda7d2bbd201339a9997b/tiles/%7Bz%7D/%7Bx%7D/%7By%7D%22%2C%0A%20%20%20%20%20%20%20%20%20%20%20%20%20%20%20%20%7B%22attribution%22%3A%20%22Google%20Earth%20Engine%22%2C%20%22detectRetina%22%3A%20false%2C%20%22maxNativeZoom%22%3A%2018%2C%20%22maxZoom%22%3A%2018%2C%20%22minZoom%22%3A%200%2C%20%22noWrap%22%3A%20false%2C%20%22opacity%22%3A%201.0%2C%20%22subdomains%22%3A%20%22abc%22%2C%20%22tms%22%3A%20false%7D%0A%20%20%20%20%20%20%20%20%20%20%20%20%29.addTo%28map_bdce9b8dd67d4c269f41b1ab6cdbac40%29%3B%0A%20%20%20%20%20%20%20%20%0A%20%20%20%20%0A%20%20%20%20%20%20%20%20%20%20%20%20var%20tile_layer_7002fbcbe2c641748d2b23d34136d33a%20%3D%20L.tileLayer%28%0A%20%20%20%20%20%20%20%20%20%20%20%20%20%20%20%20%22https%3A//earthengine.googleapis.com/v1alpha/projects/earthengine-legacy/maps/357da8c35dbb8e92b087df31e290fce5-d2e4989874918181f79b065291aae0ec/tiles/%7Bz%7D/%7Bx%7D/%7By%7D%22%2C%0A%20%20%20%20%20%20%20%20%20%20%20%20%20%20%20%20%7B%22attribution%22%3A%20%22Google%20Earth%20Engine%22%2C%20%22detectRetina%22%3A%20false%2C%20%22maxNativeZoom%22%3A%2018%2C%20%22maxZoom%22%3A%2018%2C%20%22minZoom%22%3A%200%2C%20%22noWrap%22%3A%20false%2C%20%22opacity%22%3A%201.0%2C%20%22subdomains%22%3A%20%22abc%22%2C%20%22tms%22%3A%20false%7D%0A%20%20%20%20%20%20%20%20%20%20%20%20%29.addTo%28map_bdce9b8dd67d4c269f41b1ab6cdbac40%29%3B%0A%20%20%20%20%20%20%20%20%0A%20%20%20%20%0A%20%20%20%20%20%20%20%20%20%20%20%20var%20tile_layer_60f25b132d6c472384e9536fe1fd8489%20%3D%20L.tileLayer%28%0A%20%20%20%20%20%20%20%20%20%20%20%20%20%20%20%20%22https%3A//earthengine.googleapis.com/v1alpha/projects/earthengine-legacy/maps/0fff14660f80bcca4ea217f79c7e49ea-7d7ebc306f9f5ad269eef3d125fa4a9f/tiles/%7Bz%7D/%7Bx%7D/%7By%7D%22%2C%0A%20%20%20%20%20%20%20%20%20%20%20%20%20%20%20%20%7B%22attribution%22%3A%20%22Google%20Earth%20Engine%22%2C%20%22detectRetina%22%3A%20false%2C%20%22maxNativeZoom%22%3A%2018%2C%20%22maxZoom%22%3A%2018%2C%20%22minZoom%22%3A%200%2C%20%22noWrap%22%3A%20false%2C%20%22opacity%22%3A%201.0%2C%20%22subdomains%22%3A%20%22abc%22%2C%20%22tms%22%3A%20false%7D%0A%20%20%20%20%20%20%20%20%20%20%20%20%29.addTo%28map_bdce9b8dd67d4c269f41b1ab6cdbac40%29%3B%0A%20%20%20%20%20%20%20%20%0A%20%20%20%20%0A%20%20%20%20%20%20%20%20%20%20%20%20var%20tile_layer_fc4de5854d3843e0b6f64a225b440f20%20%3D%20L.tileLayer%28%0A%20%20%20%20%20%20%20%20%20%20%20%20%20%20%20%20%22https%3A//earthengine.googleapis.com/v1alpha/projects/earthengine-legacy/maps/7dc3003c8a3026c567b624cd7b68abf7-1f79b098976a2699b3601a34c7af8e09/tiles/%7Bz%7D/%7Bx%7D/%7By%7D%22%2C%0A%20%20%20%20%20%20%20%20%20%20%20%20%20%20%20%20%7B%22attribution%22%3A%20%22Google%20Earth%20Engine%22%2C%20%22detectRetina%22%3A%20false%2C%20%22maxNativeZoom%22%3A%2018%2C%20%22maxZoom%22%3A%2018%2C%20%22minZoom%22%3A%200%2C%20%22noWrap%22%3A%20false%2C%20%22opacity%22%3A%201.0%2C%20%22subdomains%22%3A%20%22abc%22%2C%20%22tms%22%3A%20false%7D%0A%20%20%20%20%20%20%20%20%20%20%20%20%29.addTo%28map_bdce9b8dd67d4c269f41b1ab6cdbac40%29%3B%0A%20%20%20%20%20%20%20%20%0A%20%20%20%20%0A%20%20%20%20%20%20%20%20%20%20%20%20var%20layer_control_493bedd5c4364bfca5c6fb5ce9601ce6%20%3D%20%7B%0A%20%20%20%20%20%20%20%20%20%20%20%20%20%20%20%20base_layers%20%3A%20%7B%0A%20%20%20%20%20%20%20%20%20%20%20%20%20%20%20%20%20%20%20%20%22openstreetmap%22%20%3A%20tile_layer_6b27c5742903472e9d6385679a30c530%2C%0A%20%20%20%20%20%20%20%20%20%20%20%20%20%20%20%20%7D%2C%0A%20%20%20%20%20%20%20%20%20%20%20%20%20%20%20%20overlays%20%3A%20%20%7B%0A%20%20%20%20%20%20%20%20%20%20%20%20%20%20%20%20%20%20%20%20%22Google%20Maps%22%20%3A%20tile_layer_e19c6912bfd34070914904cb952acafd%2C%0A%20%20%20%20%20%20%20%20%20%20%20%20%20%20%20%20%20%20%20%20%22NDVI%20L7%202000%22%20%3A%20tile_layer_4f67993a0f99404a8f19c4f933d5277d%2C%0A%20%20%20%20%20%20%20%20%20%20%20%20%20%20%20%20%20%20%20%20%22LANDSAT%205%202000%22%20%3A%20tile_layer_7002fbcbe2c641748d2b23d34136d33a%2C%0A%20%20%20%20%20%20%20%20%20%20%20%20%20%20%20%20%20%20%20%20%22LANDSAT%208%202013%22%20%3A%20tile_layer_60f25b132d6c472384e9536fe1fd8489%2C%0A%20%20%20%20%20%20%20%20%20%20%20%20%20%20%20%20%20%20%20%20%22SENTINEL%202%202018%22%20%3A%20tile_layer_fc4de5854d3843e0b6f64a225b440f20%2C%0A%20%20%20%20%20%20%20%20%20%20%20%20%20%20%20%20%7D%2C%0A%20%20%20%20%20%20%20%20%20%20%20%20%7D%3B%0A%20%20%20%20%20%20%20%20%20%20%20%20L.control.layers%28%0A%20%20%20%20%20%20%20%20%20%20%20%20%20%20%20%20layer_control_493bedd5c4364bfca5c6fb5ce9601ce6.base_layers%2C%0A%20%20%20%20%20%20%20%20%20%20%20%20%20%20%20%20layer_control_493bedd5c4364bfca5c6fb5ce9601ce6.overlays%2C%0A%20%20%20%20%20%20%20%20%20%20%20%20%20%20%20%20%7B%22autoZIndex%22%3A%20true%2C%20%22collapsed%22%3A%20true%2C%20%22position%22%3A%20%22topright%22%7D%0A%20%20%20%20%20%20%20%20%20%20%20%20%29.addTo%28map_bdce9b8dd67d4c269f41b1ab6cdbac40%29%3B%0A%20%20%20%20%20%20%20%20%0A%3C/script%3E onload=\"this.contentDocument.open();this.contentDocument.write(    decodeURIComponent(this.getAttribute('data-html')));this.contentDocument.close();\" allowfullscreen webkitallowfullscreen mozallowfullscreen></iframe></div></div>"
            ],
            "text/plain": [
              "<geemap.eefolium.Map at 0x7f04f495a150>"
            ]
          },
          "metadata": {
            "tags": []
          },
          "execution_count": 12
        }
      ]
    },
    {
      "cell_type": "code",
      "metadata": {
        "id": "h6GwyXI_dp8K"
      },
      "source": [
        "import gdal"
      ],
      "execution_count": null,
      "outputs": []
    },
    {
      "cell_type": "code",
      "metadata": {
        "id": "7hsfq75ELmd9"
      },
      "source": [
        "import numpy as np\n",
        "from osgeo import gdal\n",
        "from osgeo import osr\n",
        "import time\n",
        "\n",
        "\n",
        "#----------------------------------------------------------------------\n",
        "#Adaptação do exemplo disponibilizado em:\n",
        "#https://mygeoblog.com/2017/10/06/from-gee-to-numpy-to-geotiff/\n",
        "def save_gee_tiff(image,area,bandList,dummyValue,scaleValue,path_out):\n",
        "\n",
        "    #image generation time\n",
        "    #timedate = image.get('GENERATION_TIME').getInfo()\n",
        " \n",
        "    #get the lat lon and add the bands/attributes/operations\n",
        "    latlon = ee.Image.pixelLonLat().addBands( image.select(bandList) )\n",
        " \n",
        "    #apply reducer to list\n",
        "    latlon = latlon.reduceRegion(reducer=ee.Reducer.toList(), geometry=area, maxPixels=1e8, scale=scaleValue)\n",
        "  \n",
        "    #get data into different arrays\n",
        "    lats = np.array((ee.Array(latlon.get('latitude')).getInfo()))\n",
        "    lons = np.array((ee.Array(latlon.get('longitude')).getInfo()))\n",
        "    arrayList = []\n",
        "    for i in range(len(bandList)):\n",
        "        data = np.array((ee.Array(latlon.get(bandList[i])).getInfo()),np.float32)\n",
        "        arrayList.append(data)\n",
        "\n",
        "    #get the unique coordinates\n",
        "    uniqueLats = np.unique(lats)\n",
        "    uniqueLons = np.unique(lons)\n",
        " \n",
        "    #get number of columns and rows from coordinates\n",
        "    ncols = len(uniqueLons)    \n",
        "    nrows = len(uniqueLats)\n",
        "    #number of bands in output image\n",
        "    nband = len(bandList)\n",
        " \n",
        "    # determine pixelsizes\n",
        "    ys = uniqueLats[1] - uniqueLats[0] \n",
        "    xs = uniqueLons[1] - uniqueLons[0]\n",
        " \n",
        "    # create an array with dimensions of image\n",
        "    arr = np.zeros([nband, nrows, ncols], np.float32) #-9999  #<<<descomentao para usar como dummy!?\n",
        " \n",
        "    \"\"\" # fill the array with values\n",
        "    counter = 0\n",
        "    for y in range(nrows):       #linhas\n",
        "        for x in range(ncols):   #colunas\n",
        "            if (lats[counter] == uniqueLats[y]) and (lons[counter] == uniqueLons[x]) and (counter < (len(lats)-1)):\n",
        "                #counter+=1\n",
        "                for b in range(nband):         #bandas\n",
        "                    arr[b,len(uniqueLats)-1-y,x] = arrayList[b][counter] # we start from lower left corner\n",
        "                counter+=1 \"\"\"\n",
        " \n",
        "    #alternativa----------------------------------- (o código acima funciona na landsat)\n",
        "    refLat = np.max(uniqueLats)\n",
        "    refLon = np.min(uniqueLons)\n",
        "    nItens = len(arrayList[0])\n",
        "    #counter = 0\n",
        "    for i in range(nItens):\n",
        "        posLin = np.int64( np.round( (refLat - lats[i])/ys ) )\n",
        "        #posCol = np.int64( np.round( (refLon - lons[i])/xs ) )\n",
        "        posCol = np.int64( np.round( (lons[i] - refLon)/xs ) )\n",
        "        for b in range(nband):\n",
        "            arr[b,posLin,posCol] = arrayList[b][i]\n",
        "\n",
        "    #SetGeoTransform((originX, pixelWidth, 0, originY, 0, pixelHeight))\n",
        "    transform = (np.min(uniqueLons),xs,0,np.max(uniqueLats),0,-ys)\n",
        " \n",
        "    #set the coordinate system\n",
        "    target = osr.SpatialReference()\n",
        "    target.ImportFromEPSG(4326)\n",
        " \n",
        "    #set driver\n",
        "    driver = gdal.GetDriverByName('GTiff')\n",
        " \n",
        "    #timestring = time.strftime(\"%Y%m%d_%H%M%S\")\n",
        "    outDs = driver.Create(path_out, ncols,nrows,nband,gdal.GDT_Float32)\n",
        "\n",
        "    #projection settings\n",
        "    outDs.SetGeoTransform(transform)\n",
        "    outDs.SetProjection(target.ExportToWkt())\n",
        "\n",
        "    #building output image\n",
        "    ind = 1\n",
        "    for b in range(nband):\n",
        "        bandArr = np.copy(arr[b,:,:])\n",
        "        outBand = outDs.GetRasterBand(ind)\n",
        "        outBand.WriteArray(bandArr)\n",
        "        outBand.FlushCache()\n",
        "        outBand.SetNoDataValue(dummyValue)\n",
        "        ind += 1\n",
        "\n",
        "    outDs = None\n",
        "    del outDs, outBand\n",
        "\n",
        "    return 'ok...'"
      ],
      "execution_count": null,
      "outputs": []
    },
    {
      "cell_type": "code",
      "metadata": {
        "id": "Zgkrj7ZILyB9"
      },
      "source": [
        "bandlist = ['B2','B3','B4','B8']\n",
        "path = r'C:\\\\Users\\\\vinim\\\\OneDrive\\\\Área de Trabalho\\\\VINICIUS\\\\1_Sem_2021\\\\PMA'\n",
        "for i in range(Cole_S2.size().getInfo()):\n",
        "  imageInfo = ee.Image(Lista_S2.get(i)).getInfo()\n",
        "  image = ee.Image(-99999).blend(ee.Image(Lista_S2.get(i)))\n",
        "  path_out_img = path_out + imageInfo['id'].split('/')[-1] +'.tif'\n",
        "  print('Processando...',imageInfo['id'])\n",
        "  save_gee_tiff(image,geometria,bandlist,-99999,10,path)"
      ],
      "execution_count": null,
      "outputs": []
    }
  ]
}