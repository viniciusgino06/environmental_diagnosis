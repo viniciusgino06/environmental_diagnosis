{
 "metadata": {
  "language_info": {
   "codemirror_mode": {
    "name": "ipython",
    "version": 3
   },
   "file_extension": ".py",
   "mimetype": "text/x-python",
   "name": "python",
   "nbconvert_exporter": "python",
   "pygments_lexer": "ipython3",
   "version": "3.9.1"
  },
  "orig_nbformat": 2,
  "kernelspec": {
   "name": "python391jvsc74a57bd0dce3cd28aa7ed72b318c173dd0530b95dce941e6cd780d4aabcf494dbe4600d4",
   "display_name": "Python 3.9.1 64-bit ('gdal_env': conda)"
  }
 },
 "nbformat": 4,
 "nbformat_minor": 2,
 "cells": [
  {
   "cell_type": "code",
   "execution_count": 1,
   "metadata": {},
   "outputs": [],
   "source": [
    "import ee\n",
    "import pandas as pd\n",
    "import numpy as np\n",
    "import folium\n",
    "import time\n",
    "import logging\n",
    "import requests\n",
    "import zipfile\n",
    "import os\n",
    "import math\n",
    "\n",
    "ee.Initialize()"
   ]
  },
  {
   "cell_type": "code",
   "execution_count": 14,
   "metadata": {},
   "outputs": [
    {
     "output_type": "stream",
     "name": "stdout",
     "text": [
      "LANDSAT 8: 77\n"
     ]
    }
   ],
   "source": [
    "#Poligono referente a região do banhado\n",
    "coordenadas = \"-45.92492886742651,-23.199948257720962,-45.88098355492651,-23.160970895077618\"\n",
    "x1,y1,x2,y2 = coordenadas.split(\",\")\n",
    "geometria = geometry = ee.Geometry.Polygon(\n",
    "        [[[float(x1),float(y2)],\n",
    "          [float(x2),float(y2)],\n",
    "          [float(x2),float(y1)],\n",
    "          [float(x1),float(y1)],\n",
    "          [float(x1),float(y2)]]])\n",
    "datasL5 = \"2000-01-01,2013-01-01\"\n",
    "ini,fi = datasL5.split(\",\")\n",
    "datasL8 = \"2013-01-01,2021-04-14\"\n",
    "inicio,fim = datasL8.split(\",\")\n",
    "#colecaoL5 = ee.ImageCollection(\"LANDSAT/LT05/C01/T1_SR\").filterBounds(geometria).filterDate(ini,fi).filterMetadata('CLOUD_COVER','less_than', 10)\n",
    "colecaoL8 = ee.ImageCollection(\"LANDSAT/LC08/C01/T1_TOA\").filterBounds(geometria).filterDate(inicio,fim).filterMetadata('CLOUD_COVER','less_than', 10)\n",
    "#colecaoS2 = ee.ImageCollection(\"COPERNICUS/S2_SR\").filterBounds(geometria).filterDate(inicio,fim).filterMetadata('CLOUDY_PIXEL_PERCENTAGE','less_than', 5)\n",
    "#print(\"LANDSAT 5: \"+str(colecaoL5.size().getInfo()))\n",
    "print(\"LANDSAT 8: \"+str(colecaoL8.size().getInfo()))\n",
    "#print(\"SENTINEL 2: \"+str(colecaoS2.size().getInfo()))"
   ]
  },
  {
   "cell_type": "code",
   "execution_count": 15,
   "metadata": {},
   "outputs": [],
   "source": [
    "def organiza(col,start,end):\n",
    "  years = ee.List.sequence(start,end).getInfo()\n",
    "  lista = ee.List([])\n",
    "  for year in years:\n",
    "    priano = col.filterDate(str(year)+'-01-01',str(year)+'-12-31').sort('CLOUD_COVER').first()\n",
    "    if type(priano) == ee.image.Image:\n",
    "      lista = lista.add(priano)\n",
    "\n",
    "  return lista"
   ]
  },
  {
   "cell_type": "code",
   "execution_count": 16,
   "metadata": {},
   "outputs": [],
   "source": [
    "Lista_L8 = organiza(colecaoL8,2013,2020)\n",
    "Cole_L8 = ee.ImageCollection(Lista_L8)"
   ]
  },
  {
   "cell_type": "code",
   "execution_count": 17,
   "metadata": {},
   "outputs": [],
   "source": [
    "def ymdList(imgcol):\n",
    "    def iter_func(image, newlist):\n",
    "        date = ee.Number.parse(image.date().format(\"YYYYMMdd\"))\n",
    "        newlist = ee.List(newlist)\n",
    "        return ee.List(newlist.add(date).sort())\n",
    "    ymd = imgcol.iterate(iter_func, ee.List([]))\n",
    "    return list(ee.List(ymd).reduce(ee.Reducer.frequencyHistogram()).getInfo().keys())"
   ]
  },
  {
   "cell_type": "code",
   "execution_count": 18,
   "metadata": {},
   "outputs": [
    {
     "output_type": "execute_result",
     "data": {
      "text/plain": [
       "['20130512',\n",
       " '20140803',\n",
       " '20150714',\n",
       " '20160707',\n",
       " '20170905',\n",
       " '20180823',\n",
       " '20190817',\n",
       " '20200531']"
      ]
     },
     "metadata": {},
     "execution_count": 18
    }
   ],
   "source": [
    "ymdList(Cole_L8)"
   ]
  },
  {
   "cell_type": "code",
   "execution_count": 19,
   "metadata": {},
   "outputs": [],
   "source": [
    "import numpy as np\n",
    "from osgeo import gdal\n",
    "from osgeo import osr\n",
    "import time\n",
    "\n",
    "\n",
    "#----------------------------------------------------------------------\n",
    "#Adaptação do exemplo disponibilizado em:\n",
    "#https://mygeoblog.com/2017/10/06/from-gee-to-numpy-to-geotiff/\n",
    "def save_gee_tiff(image,area,bandList,dummyValue,scaleValue,path_out):\n",
    "\n",
    "    #image generation time\n",
    "    #timedate = image.get('GENERATION_TIME').getInfo()\n",
    " \n",
    "    #get the lat lon and add the bands/attributes/operations\n",
    "    latlon = ee.Image.pixelLonLat().addBands( image.select(bandList) )\n",
    " \n",
    "    #apply reducer to list\n",
    "    latlon = latlon.reduceRegion(reducer=ee.Reducer.toList(), geometry=area, maxPixels=1e8, scale=scaleValue)\n",
    "  \n",
    "    #get data into different arrays\n",
    "    lats = np.array((ee.Array(latlon.get('latitude')).getInfo()))\n",
    "    lons = np.array((ee.Array(latlon.get('longitude')).getInfo()))\n",
    "    arrayList = []\n",
    "    for i in range(len(bandList)):\n",
    "        data = np.array((ee.Array(latlon.get(bandList[i])).getInfo()),np.float32)\n",
    "        arrayList.append(data)\n",
    "\n",
    "    #get the unique coordinates\n",
    "    uniqueLats = np.unique(lats)\n",
    "    uniqueLons = np.unique(lons)\n",
    " \n",
    "    #get number of columns and rows from coordinates\n",
    "    ncols = len(uniqueLons)    \n",
    "    nrows = len(uniqueLats)\n",
    "    #number of bands in output image\n",
    "    nband = len(bandList)\n",
    " \n",
    "    # determine pixelsizes\n",
    "    ys = uniqueLats[1] - uniqueLats[0] \n",
    "    xs = uniqueLons[1] - uniqueLons[0]\n",
    " \n",
    "    # create an array with dimensions of image\n",
    "    arr = np.zeros([nband, nrows, ncols], np.float32) #-9999  #<<<descomentao para usar como dummy!?\n",
    " \n",
    "    \"\"\" # fill the array with values\n",
    "    counter = 0\n",
    "    for y in range(nrows):       #linhas\n",
    "        for x in range(ncols):   #colunas\n",
    "            if (lats[counter] == uniqueLats[y]) and (lons[counter] == uniqueLons[x]) and (counter < (len(lats)-1)):\n",
    "                #counter+=1\n",
    "                for b in range(nband):         #bandas\n",
    "                    arr[b,len(uniqueLats)-1-y,x] = arrayList[b][counter] # we start from lower left corner\n",
    "                counter+=1 \"\"\"\n",
    " \n",
    "    #alternativa----------------------------------- (o código acima funciona na landsat)\n",
    "    refLat = np.max(uniqueLats)\n",
    "    refLon = np.min(uniqueLons)\n",
    "    nItens = len(arrayList[0])\n",
    "    #counter = 0\n",
    "    for i in range(nItens):\n",
    "        posLin = np.int64( np.round( (refLat - lats[i])/ys ) )\n",
    "        #posCol = np.int64( np.round( (refLon - lons[i])/xs ) )\n",
    "        posCol = np.int64( np.round( (lons[i] - refLon)/xs ) )\n",
    "        for b in range(nband):\n",
    "            arr[b,posLin,posCol] = arrayList[b][i]\n",
    "\n",
    "    #SetGeoTransform((originX, pixelWidth, 0, originY, 0, pixelHeight))\n",
    "    transform = (np.min(uniqueLons),xs,0,np.max(uniqueLats),0,-ys)\n",
    " \n",
    "    #set the coordinate system\n",
    "    target = osr.SpatialReference()\n",
    "    target.ImportFromEPSG(4326)\n",
    " \n",
    "    #set driver\n",
    "    driver = gdal.GetDriverByName('GTiff')\n",
    " \n",
    "    #timestring = time.strftime(\"%Y%m%d_%H%M%S\")\n",
    "    outDs = driver.Create(path_out, ncols,nrows,nband,gdal.GDT_Float32)\n",
    "\n",
    "    #projection settings\n",
    "    outDs.SetGeoTransform(transform)\n",
    "    outDs.SetProjection(target.ExportToWkt())\n",
    "\n",
    "    #building output image\n",
    "    ind = 1\n",
    "    for b in range(nband):\n",
    "        bandArr = np.copy(arr[b,:,:])\n",
    "        outBand = outDs.GetRasterBand(ind)\n",
    "        outBand.WriteArray(bandArr)\n",
    "        outBand.FlushCache()\n",
    "        outBand.SetNoDataValue(dummyValue)\n",
    "        ind += 1\n",
    "\n",
    "    outDs = None\n",
    "    del outDs, outBand\n",
    "\n",
    "    return 'ok...'"
   ]
  },
  {
   "cell_type": "code",
   "execution_count": 20,
   "metadata": {},
   "outputs": [
    {
     "output_type": "execute_result",
     "data": {
      "text/plain": [
       "['B1', 'B2', 'B3', 'B4', 'B5', 'B6', 'B7', 'B8', 'B9', 'B10', 'B11', 'BQA']"
      ]
     },
     "metadata": {},
     "execution_count": 20
    }
   ],
   "source": [
    "ee.Image(Lista_L8.get(3)).bandNames().getInfo()"
   ]
  },
  {
   "cell_type": "code",
   "execution_count": 34,
   "metadata": {},
   "outputs": [
    {
     "output_type": "execute_result",
     "data": {
      "text/plain": [
       "['13:06:17.5161250Z',\n",
       " '13:04:21.1890800Z',\n",
       " '12:57:43.2669820Z',\n",
       " '13:04:15.5482330Z',\n",
       " '12:58:17.3685910Z',\n",
       " '12:57:40.5732640Z',\n",
       " '13:04:30.2782240Z',\n",
       " '13:03:51.0658569Z']"
      ]
     },
     "metadata": {},
     "execution_count": 34
    }
   ],
   "source": [
    "hora = []\n",
    "for i in range(Cole_L8.size().getInfo()):\n",
    "    qualquer = ee.Image(Lista_L8.get(i)).getInfo()\n",
    "    hora.append(qualquer['properties']['SCENE_CENTER_TIME'])\n",
    "\n",
    "hora"
   ]
  },
  {
   "cell_type": "code",
   "execution_count": 36,
   "metadata": {},
   "outputs": [
    {
     "output_type": "execute_result",
     "data": {
      "text/plain": [
       "['B1', 'B2', 'B3', 'B4', 'B5', 'B6', 'B7', 'B8', 'B9', 'B10', 'B11', 'BQA']"
      ]
     },
     "metadata": {},
     "execution_count": 36
    }
   ],
   "source": [
    "mediaL8 = colecaoL8.mean()\n",
    "bandas = mediaL8.bandNames().getInfo()\n",
    "bandas"
   ]
  },
  {
   "cell_type": "code",
   "execution_count": 21,
   "metadata": {},
   "outputs": [
    {
     "output_type": "stream",
     "name": "stdout",
     "text": [
      "Processando... LANDSAT/LC08/C01/T1_TOA/LC08_219076_20130512\n",
      "Processando... LANDSAT/LC08/C01/T1_TOA/LC08_219076_20140803\n",
      "Processando... LANDSAT/LC08/C01/T1_TOA/LC08_218076_20150714\n",
      "Processando... LANDSAT/LC08/C01/T1_TOA/LC08_219076_20160707\n",
      "Processando... LANDSAT/LC08/C01/T1_TOA/LC08_218076_20170905\n",
      "Processando... LANDSAT/LC08/C01/T1_TOA/LC08_218076_20180823\n",
      "Processando... LANDSAT/LC08/C01/T1_TOA/LC08_219076_20190817\n",
      "Processando... LANDSAT/LC08/C01/T1_TOA/LC08_219076_20200531\n"
     ]
    }
   ],
   "source": [
    "bandlist = ['B2','B3','B4','B8','B10','B11']\n",
    "path = r'C:\\Users\\vinim\\OneDrive\\Área de Trabalho\\VINICIUS\\1_Sem_2021\\PMA\\Imagens\\Landsat\\\\'\n",
    "for i in range(Cole_L8.size().getInfo()):\n",
    "  imageInfo = ee.Image(Lista_L8.get(i)).getInfo()\n",
    "  image = ee.Image(-99999).blend(ee.Image(Lista_L8.get(i)))\n",
    "  path_out_img = path + imageInfo['id'].split('/')[-1] +'.tif'\n",
    "  print('Processando...',imageInfo['id'])\n",
    "  save_gee_tiff(image,geometria,bandlist,-99999,30,path_out_img)"
   ]
  },
  {
   "cell_type": "code",
   "execution_count": 37,
   "metadata": {},
   "outputs": [
    {
     "output_type": "stream",
     "name": "stdout",
     "text": [
      "Processando... C:\\Users\\vinim\\OneDrive\\Área de Trabalho\\VINICIUS\\1_Sem_2021\\PMA\\Imagens\\Landsat\\\\media_2013_2020.tif\n"
     ]
    },
    {
     "output_type": "execute_result",
     "data": {
      "text/plain": [
       "'ok...'"
      ]
     },
     "metadata": {},
     "execution_count": 37
    }
   ],
   "source": [
    "imageInfo = mediaL8.getInfo()\n",
    "path_out_img = path + 'media_2013_2020' +'.tif'\n",
    "print('Processando...',path_out_img)\n",
    "save_gee_tiff(mediaL8,geometria,bandas,-99999,30,path_out_img)"
   ]
  },
  {
   "cell_type": "code",
   "execution_count": null,
   "metadata": {},
   "outputs": [],
   "source": []
  }
 ]
}